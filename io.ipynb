{
 "cells": [
  {
   "cell_type": "code",
   "execution_count": 1,
   "metadata": {},
   "outputs": [
    {
     "name": "stdout",
     "output_type": "stream",
     "text": [
      "20 30 apple this is me\n"
     ]
    }
   ],
   "source": [
    "x=20\n",
    "y=30\n",
    "z=\"apple\"\n",
    "print(x,y,z,\"this is me\")"
   ]
  },
  {
   "cell_type": "code",
   "execution_count": 3,
   "metadata": {},
   "outputs": [
    {
     "name": "stdout",
     "output_type": "stream",
     "text": [
      "apples,grapes,guava\n"
     ]
    }
   ],
   "source": [
    "print(\"apples\",\"grapes\",\"guava\",sep=',')"
   ]
  },
  {
   "cell_type": "markdown",
   "metadata": {},
   "source": [
    "# How to display text with mixed variables\n",
    "- comma seprated\n",
    "- format specifier\n",
    "- using format() function\n",
    "- using f-strings"
   ]
  },
  {
   "cell_type": "code",
   "execution_count": 4,
   "metadata": {},
   "outputs": [],
   "source": [
    "lang=\"python\"\n",
    "lc=\"easy\"\n",
    "version=3.9\n",
    "creator='guido van rossum'"
   ]
  },
  {
   "cell_type": "code",
   "execution_count": 7,
   "metadata": {},
   "outputs": [
    {
     "name": "stdout",
     "output_type": "stream",
     "text": [
      "python is an easy language created by guido van rossum the current version is  3.9\n"
     ]
    }
   ],
   "source": [
    "print(lang,\"is an\",lc,\"language created by\",creator,\"the current version is \",version)"
   ]
  },
  {
   "cell_type": "code",
   "execution_count": 10,
   "metadata": {},
   "outputs": [
    {
     "name": "stdout",
     "output_type": "stream",
     "text": [
      "python is an easy language created by guido van rossum the current is 3.9\n"
     ]
    }
   ],
   "source": [
    "print('%s is an %s language created by %s the current is %s' %(lang,lc,creator,version))"
   ]
  },
  {
   "cell_type": "code",
   "execution_count": 9,
   "metadata": {},
   "outputs": [
    {
     "name": "stdout",
     "output_type": "stream",
     "text": [
      "python is an easy language created by guido van rossum the current is 3.9\n"
     ]
    }
   ],
   "source": [
    "print('{0} is an {1} language created by {2} the current is {3}'.format(lang,lc,creator,version))"
   ]
  },
  {
   "cell_type": "markdown",
   "metadata": {},
   "source": [
    "# the better way to create and print message in python is f-string"
   ]
  },
  {
   "cell_type": "code",
   "execution_count": 13,
   "metadata": {},
   "outputs": [
    {
     "name": "stdout",
     "output_type": "stream",
     "text": [
      "python is an easy language created by guido van rossum the current version is 3.9\n"
     ]
    }
   ],
   "source": [
    "print(f'{lang} is an {lc} language created by {creator} the current version is {version}')"
   ]
  },
  {
   "cell_type": "code",
   "execution_count": 1,
   "metadata": {},
   "outputs": [
    {
     "name": "stdout",
     "output_type": "stream",
     "text": [
      "45 45 were given\n",
      "<class 'str'> <class 'int'>\n"
     ]
    }
   ],
   "source": [
    "name= input(\"enter your name\")\n",
    "age= int(input(\"enter number\"))\n",
    "print(name,age, \"were given\")\n",
    "print(type(name),type(age))"
   ]
  },
  {
   "cell_type": "code",
   "execution_count": null,
   "metadata": {},
   "outputs": [],
   "source": []
  }
 ],
 "metadata": {
  "interpreter": {
   "hash": "5b0f11d4f572645ee0def1dfb7c31dc9f915e3e432d6ab1f326a50bfbf8da5fd"
  },
  "kernelspec": {
   "display_name": "Python 3.9.5 64-bit ('base': conda)",
   "language": "python",
   "name": "python3"
  },
  "language_info": {
   "codemirror_mode": {
    "name": "ipython",
    "version": 3
   },
   "file_extension": ".py",
   "mimetype": "text/x-python",
   "name": "python",
   "nbconvert_exporter": "python",
   "pygments_lexer": "ipython3",
   "version": "3.9.5"
  },
  "orig_nbformat": 4
 },
 "nbformat": 4,
 "nbformat_minor": 2
}
