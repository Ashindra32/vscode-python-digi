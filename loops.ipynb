{
 "cells": [
  {
   "cell_type": "code",
   "execution_count": 3,
   "metadata": {},
   "outputs": [
    {
     "name": "stdout",
     "output_type": "stream",
     "text": [
      "p\n",
      "y\n",
      "t\n",
      "h\n",
      "o\n",
      "n\n"
     ]
    }
   ],
   "source": [
    "x= 'python'\n",
    "for i in x:\n",
    "    print(i)"
   ]
  },
  {
   "cell_type": "code",
   "execution_count": 4,
   "metadata": {},
   "outputs": [
    {
     "name": "stdout",
     "output_type": "stream",
     "text": [
      "i have apple\n",
      "i have banana\n",
      "i have mango\n"
     ]
    }
   ],
   "source": [
    "fruits=['apple','banana','mango']\n",
    "for item in fruits:\n",
    "    print(f\"i have {item}\")"
   ]
  },
  {
   "cell_type": "code",
   "execution_count": 5,
   "metadata": {},
   "outputs": [
    {
     "name": "stdout",
     "output_type": "stream",
     "text": [
      "the holy grail 14\n",
      "the life of brian 17\n",
      "harry potter 12\n",
      "the meaning of life 19\n"
     ]
    }
   ],
   "source": [
    "movies=[\"the holy grail\",'the life of brian','harry potter','the meaning of life']\n",
    "for movie in movies:\n",
    "    print(movie, len(movie))"
   ]
  },
  {
   "cell_type": "code",
   "execution_count": 8,
   "metadata": {},
   "outputs": [
    {
     "name": "stdout",
     "output_type": "stream",
     "text": [
      "0 - the holy grail\n",
      "1 - the life of brian\n",
      "2 - harry potter\n",
      "3 - the meaning of life\n"
     ]
    }
   ],
   "source": [
    "# for loop with counter\n",
    "for i,j in enumerate(movies):\n",
    "    print(f\"{i} - {j}\")"
   ]
  },
  {
   "cell_type": "code",
   "execution_count": 9,
   "metadata": {},
   "outputs": [
    {
     "name": "stdout",
     "output_type": "stream",
     "text": [
      "0\n",
      "1\n",
      "2\n",
      "3\n",
      "4\n",
      "5\n"
     ]
    }
   ],
   "source": [
    "for i in range(6):\n",
    "    print(i)"
   ]
  },
  {
   "cell_type": "code",
   "execution_count": 11,
   "metadata": {},
   "outputs": [
    {
     "name": "stdout",
     "output_type": "stream",
     "text": [
      "sheep 2\n",
      "sheep 3\n",
      "sheep 4\n",
      "sheep 5\n",
      "sheep 6\n",
      "sheep 7\n",
      "sheep 8\n",
      "sheep 9\n",
      "sheep 10\n"
     ]
    }
   ],
   "source": [
    "for i in range(2,11):\n",
    "    print(\"sheep\",i)"
   ]
  },
  {
   "cell_type": "code",
   "execution_count": 13,
   "metadata": {},
   "outputs": [
    {
     "name": "stdout",
     "output_type": "stream",
     "text": [
      "level 1\n",
      "level 3\n",
      "level 5\n",
      "level 7\n",
      "level 9\n"
     ]
    }
   ],
   "source": [
    "for num in range(1,10,2):\n",
    "    print('level',num)"
   ]
  },
  {
   "cell_type": "code",
   "execution_count": 14,
   "metadata": {},
   "outputs": [
    {
     "name": "stdout",
     "output_type": "stream",
     "text": [
      "10\n",
      "9\n",
      "8\n",
      "7\n",
      "6\n"
     ]
    }
   ],
   "source": [
    "# reverse loop\n",
    "for num in range(10,5,-1):\n",
    "    print(num)"
   ]
  },
  {
   "cell_type": "code",
   "execution_count": 19,
   "metadata": {},
   "outputs": [
    {
     "name": "stdout",
     "output_type": "stream",
     "text": [
      "\n",
      "na\n",
      "nana\n",
      "nanana\n",
      "nananana\n",
      "nanananana\n",
      "nananananana\n",
      "nanananananana\n",
      "nananananananana\n",
      "nanananananananana\n"
     ]
    }
   ],
   "source": [
    "# pattern loop\n",
    "for i in range(10):\n",
    "    print(i*\"na\")"
   ]
  },
  {
   "cell_type": "code",
   "execution_count": 31,
   "metadata": {},
   "outputs": [
    {
     "name": "stdout",
     "output_type": "stream",
     "text": [
      "1 odd\n",
      "2 even\n",
      "3 odd\n",
      "4 even\n",
      "5 odd\n",
      "6 even\n",
      "7 odd\n",
      "8 even\n",
      "9 odd\n",
      "10 even\n",
      "11 odd\n",
      "12 even\n",
      "13 odd\n",
      "14 even\n",
      "15 odd\n",
      "16 even\n",
      "17 odd\n",
      "18 even\n",
      "19 odd\n",
      "20 even\n",
      "21 odd\n",
      "22 even\n",
      "23 odd\n",
      "24 even\n",
      "25 odd\n",
      "26 even\n",
      "27 odd\n",
      "28 even\n",
      "29 odd\n",
      "30 even\n",
      "31 odd\n",
      "32 even\n",
      "33 odd\n",
      "34 even\n",
      "35 odd\n",
      "36 even\n",
      "37 odd\n",
      "38 even\n",
      "39 odd\n",
      "40 even\n",
      "41 odd\n",
      "42 even\n",
      "43 odd\n",
      "44 even\n",
      "45 odd\n",
      "46 even\n",
      "47 odd\n",
      "48 even\n",
      "49 odd\n",
      "50 even\n",
      "51 odd\n",
      "52 even\n",
      "53 odd\n",
      "54 even\n",
      "55 odd\n",
      "56 even\n",
      "57 odd\n",
      "58 even\n",
      "59 odd\n",
      "60 even\n",
      "61 odd\n",
      "62 even\n",
      "63 odd\n",
      "64 even\n",
      "65 odd\n",
      "66 even\n",
      "67 odd\n",
      "68 even\n",
      "69 odd\n",
      "70 even\n",
      "71 odd\n",
      "72 even\n",
      "73 odd\n",
      "74 even\n",
      "75 odd\n",
      "76 even\n",
      "77 odd\n",
      "78 even\n",
      "79 odd\n",
      "80 even\n",
      "81 odd\n",
      "82 even\n",
      "83 odd\n",
      "84 even\n",
      "85 odd\n",
      "86 even\n",
      "87 odd\n",
      "88 even\n",
      "89 odd\n",
      "90 even\n",
      "91 odd\n",
      "92 even\n",
      "93 odd\n",
      "94 even\n",
      "95 odd\n",
      "96 even\n",
      "97 odd\n",
      "98 even\n",
      "99 odd\n",
      "100 even\n"
     ]
    }
   ],
   "source": [
    "# wap to print numbers are even or odd from 1,101\n",
    "for i in range(1,101):\n",
    "    if i%2==0:\n",
    "        print(i,\"even\")\n",
    "    else:\n",
    "        print(i,\"odd\")"
   ]
  },
  {
   "cell_type": "code",
   "execution_count": 37,
   "metadata": {},
   "outputs": [
    {
     "name": "stdout",
     "output_type": "stream",
     "text": [
      "2550\n"
     ]
    }
   ],
   "source": [
    "# wap to print the sum of all even number from 2 to 101\n",
    "sum=0\n",
    "for i in range(2,101):\n",
    "    if i%2==0:\n",
    "        sum=sum+i\n",
    "print(sum)"
   ]
  },
  {
   "cell_type": "code",
   "execution_count": 41,
   "metadata": {},
   "outputs": [
    {
     "name": "stdout",
     "output_type": "stream",
     "text": [
      "24.999999999999996\n"
     ]
    }
   ],
   "source": [
    "## wap to print the average of all odd numbers from 1 to 101\n",
    "avg=0\n",
    "for i in range(1,101):\n",
    "    if i %2!=0:\n",
    "        avg=avg+i/100\n",
    "print(avg)"
   ]
  },
  {
   "cell_type": "code",
   "execution_count": 11,
   "metadata": {},
   "outputs": [
    {
     "name": "stdout",
     "output_type": "stream",
     "text": [
      "1 2 3 4 5\n",
      "2 4 6 8 10\n",
      "3 6 9 12 15\n",
      "4 8 12 16 20\n",
      "5 10 15 20 25\n"
     ]
    }
   ],
   "source": [
    "\n",
    "print(1,2,3,4,5)\n",
    "print(2,4,6,8,10)\n",
    "print(3,6,9,12,15)\n",
    "print(4,8,12,16,20)\n",
    "print(5,10,15,20,25)"
   ]
  },
  {
   "cell_type": "code",
   "execution_count": 18,
   "metadata": {},
   "outputs": [
    {
     "name": "stdout",
     "output_type": "stream",
     "text": [
      "1,2,3,4,5\n",
      "2,4,6,8,10\n",
      "3,6,9,12,15\n",
      "4,8,12,16,20\n",
      "5,10,15,20,25\n"
     ]
    }
   ],
   "source": [
    "for i in range(1,6):\n",
    "    print(1*i,2*i,3*i,4*i,5*i,sep=\",\")\n"
   ]
  },
  {
   "cell_type": "code",
   "execution_count": 21,
   "metadata": {},
   "outputs": [
    {
     "name": "stdout",
     "output_type": "stream",
     "text": [
      "1 2 3 4 5 \n",
      "2 4 6 8 10 \n",
      "3 6 9 12 15 \n",
      "4 8 12 16 20 \n",
      "5 10 15 20 25 \n"
     ]
    }
   ],
   "source": [
    "# best implementation\n",
    "for row in range(1,6):\n",
    "    for col in range(1,6):\n",
    "        print(row*col,end=\" \")\n",
    "    print()"
   ]
  },
  {
   "cell_type": "code",
   "execution_count": 23,
   "metadata": {},
   "outputs": [
    {
     "name": "stdout",
     "output_type": "stream",
     "text": [
      "run\n",
      "run\n",
      "run\n",
      "run\n",
      "stop\n"
     ]
    }
   ],
   "source": [
    "# while loop\n",
    "x=1\n",
    "while x<5:\n",
    "    print('run')\n",
    "    x+=1\n",
    "print(\"stop\")"
   ]
  },
  {
   "cell_type": "code",
   "execution_count": 24,
   "metadata": {},
   "outputs": [
    {
     "name": "stdout",
     "output_type": "stream",
     "text": [
      "the sum is  55\n"
     ]
    }
   ],
   "source": [
    "n=10\n",
    "sum=0\n",
    "i=1\n",
    "while i<=n:\n",
    "    sum=sum+i\n",
    "    i=i+1\n",
    "print(\"the sum is \",sum)"
   ]
  },
  {
   "cell_type": "code",
   "execution_count": 28,
   "metadata": {},
   "outputs": [
    {
     "name": "stdout",
     "output_type": "stream",
     "text": [
      "the total chars in poem is 34\n"
     ]
    },
    {
     "data": {
      "text/plain": [
       "'there wa as kid he is very naughty'"
      ]
     },
     "execution_count": 28,
     "metadata": {},
     "output_type": "execute_result"
    }
   ],
   "source": [
    "poem=''\n",
    "while input('do you want to write another line?[y/n]')== \"y\":\n",
    "    line= input(\"____\")\n",
    "    poem+= line\n",
    "chars= len(poem)\n",
    "print(f\"the total chars in poem is {chars}\")\n",
    "poem"
   ]
  },
  {
   "cell_type": "code",
   "execution_count": 32,
   "metadata": {},
   "outputs": [
    {
     "name": "stdout",
     "output_type": "stream",
     "text": [
      "55\n"
     ]
    }
   ],
   "source": [
    "# continue\n",
    "x=[1,2,3,\"\",4,5,\"\",6,7,8,\"\",9,10]\n",
    "total=0\n",
    "for i in x:\n",
    "    if isinstance(i,str):\n",
    "        continue\n",
    "    total+= i\n",
    "print(total)"
   ]
  },
  {
   "cell_type": "code",
   "execution_count": 34,
   "metadata": {},
   "outputs": [
    {
     "name": "stdout",
     "output_type": "stream",
     "text": [
      "total chars 19\n",
      " abcdref \n",
      "hijklmop\n",
      "\n"
     ]
    }
   ],
   "source": [
    "poem=\" \"\n",
    "while True:\n",
    "    line = input(\"enter the line\")\n",
    "    if line:\n",
    "        poem+= line+\"\\n\"\n",
    "    else:\n",
    "        break\n",
    "print(\"total chars\",len(poem))\n",
    "print(poem)\n",
    "\n"
   ]
  },
  {
   "cell_type": "code",
   "execution_count": null,
   "metadata": {},
   "outputs": [],
   "source": []
  }
 ],
 "metadata": {
  "interpreter": {
   "hash": "5b0f11d4f572645ee0def1dfb7c31dc9f915e3e432d6ab1f326a50bfbf8da5fd"
  },
  "kernelspec": {
   "display_name": "Python 3.9.5 64-bit ('base': conda)",
   "language": "python",
   "name": "python3"
  },
  "language_info": {
   "codemirror_mode": {
    "name": "ipython",
    "version": 3
   },
   "file_extension": ".py",
   "mimetype": "text/x-python",
   "name": "python",
   "nbconvert_exporter": "python",
   "pygments_lexer": "ipython3",
   "version": "3.9.5"
  },
  "orig_nbformat": 4
 },
 "nbformat": 4,
 "nbformat_minor": 2
}
