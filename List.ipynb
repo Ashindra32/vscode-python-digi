{
 "cells": [
  {
   "cell_type": "markdown",
   "metadata": {},
   "source": [
    "# List\n",
    "- list is mutable(items add,remove)\n",
    "- mist is hetrogenous(mixed data can be stored)\n",
    "- list can have duplicate values\n",
    "- list is indexed(item have indexes and can be sliced)\n",
    "- list uses \"[]\" brackets with value inside it seprated with commas\n",
    "## what to learn\n",
    "- ## creating a list\n",
    "- ## indexing and slicing\n",
    "- ## function (11)\n",
    "- ## comprehension\n",
    "- ## lambda,map and filter\n",
    "- ## traversal (looping)"
   ]
  },
  {
   "cell_type": "code",
   "execution_count": 1,
   "metadata": {},
   "outputs": [],
   "source": [
    "# list of strings\n",
    "name = [\"kaladin\",\"adolin\",\"Dalinar\", \"wit\"]\n",
    "# list of number\n",
    "factor = [1,2,3,4,5]\n"
   ]
  },
  {
   "cell_type": "code",
   "execution_count": 3,
   "metadata": {},
   "outputs": [
    {
     "name": "stdout",
     "output_type": "stream",
     "text": [
      "[1, 1, 1, 1, 1, 1, 1, 1, 1, 1]\n"
     ]
    }
   ],
   "source": [
    "## quick list hack values\n",
    "x = [1] *10\n",
    "print(x)"
   ]
  },
  {
   "cell_type": "code",
   "execution_count": 7,
   "metadata": {},
   "outputs": [
    {
     "name": "stdout",
     "output_type": "stream",
     "text": [
      "[10, 'something', 9]\n"
     ]
    }
   ],
   "source": [
    "## quick list hack from variables \n",
    "a = 10\n",
    "b = \"something\"\n",
    "c = 9\n",
    "l = [a,b,c]\n",
    "print(l)"
   ]
  },
  {
   "cell_type": "code",
   "execution_count": 8,
   "metadata": {},
   "outputs": [],
   "source": [
    "kharche = []"
   ]
  },
  {
   "cell_type": "code",
   "execution_count": 9,
   "metadata": {},
   "outputs": [
    {
     "name": "stdout",
     "output_type": "stream",
     "text": [
      "[200]\n"
     ]
    }
   ],
   "source": [
    "kharche.append(200)\n",
    "print(kharche)"
   ]
  },
  {
   "cell_type": "code",
   "execution_count": 13,
   "metadata": {},
   "outputs": [
    {
     "name": "stdout",
     "output_type": "stream",
     "text": [
      "['roti roti roti', 'roti ', 'roti']\n"
     ]
    }
   ],
   "source": [
    "fav_food = []\n",
    "for i in range(3):\n",
    "    food = input(\"enter the food name \")\n",
    "    fav_food.append(food)\n",
    "print(fav_food)"
   ]
  },
  {
   "cell_type": "code",
   "execution_count": 16,
   "metadata": {},
   "outputs": [
    {
     "name": "stdout",
     "output_type": "stream",
     "text": [
      "[0, 1, 2, 3, 4, 5, 6, 7, 8, 9, 10, 11, 12, 13, 14, 15, 16, 17, 18, 19, 20, 21, 22, 23, 24, 25, 26, 27, 28, 29, 30, 31, 32, 33, 34, 35, 36, 37, 38, 39, 40, 41, 42, 43, 44, 45, 46, 47, 48, 49, 50, 51, 52, 53, 54, 55, 56, 57, 58, 59, 60, 61, 62, 63, 64, 65, 66, 67, 68, 69, 70, 71, 72, 73, 74, 75, 76, 77, 78, 79, 80, 81, 82, 83, 84, 85, 86, 87, 88, 89, 90, 91, 92, 93, 94, 95, 96, 97, 98, 99, 100]\n"
     ]
    }
   ],
   "source": [
    "nums = []\n",
    "for i in range(0,101):\n",
    "    nums.append(i)\n",
    "print(nums)"
   ]
  },
  {
   "cell_type": "markdown",
   "metadata": {},
   "source": [
    "## fucntions \n",
    "- adding items\n",
    "  - append \n",
    "  - insert\n",
    "  - extend\n",
    "- delete items\n",
    "  - remove \n",
    "  - pop\n",
    "  - clear\n",
    "- utility func\n",
    "  - reverse \n",
    "  - sort\n",
    "  - count\n",
    "  - index\n",
    "  - copy "
   ]
  },
  {
   "cell_type": "markdown",
   "metadata": {},
   "source": []
  },
  {
   "cell_type": "code",
   "execution_count": 2,
   "metadata": {},
   "outputs": [
    {
     "data": {
      "text/plain": [
       "['apple', 'banana', 'cherry', 'guava']"
      ]
     },
     "execution_count": 2,
     "metadata": {},
     "output_type": "execute_result"
    }
   ],
   "source": [
    "fruits = []\n",
    "fruits.append(\"apple\")\n",
    "fruits.append(\"banana\")\n",
    "fruits.append(\"cherry\")\n",
    "fruits.append(\"guava\")\n",
    "fruits\n"
   ]
  },
  {
   "cell_type": "code",
   "execution_count": 8,
   "metadata": {},
   "outputs": [
    {
     "data": {
      "text/plain": [
       "['apple', 'banana', 'cherry', 'fig', 'fig', 'fig', 'fig', 'guava']"
      ]
     },
     "execution_count": 8,
     "metadata": {},
     "output_type": "execute_result"
    }
   ],
   "source": [
    "fruits.insert(-1,\"fig\")\n",
    "fruits"
   ]
  },
  {
   "cell_type": "code",
   "execution_count": 9,
   "metadata": {},
   "outputs": [
    {
     "data": {
      "text/plain": [
       "['almonds', 'walnuts', 'cashew']"
      ]
     },
     "execution_count": 9,
     "metadata": {},
     "output_type": "execute_result"
    }
   ],
   "source": [
    "dry_fruits =['almonds','walnuts','cashew']\n",
    "dry_fruits"
   ]
  },
  {
   "cell_type": "code",
   "execution_count": 15,
   "metadata": {},
   "outputs": [
    {
     "data": {
      "text/plain": [
       "['apple',\n",
       " 'banana',\n",
       " 'cherry',\n",
       " 'fig',\n",
       " 'fig',\n",
       " 'fig',\n",
       " 'fig',\n",
       " 'guava',\n",
       " 'almonds',\n",
       " 'walnuts',\n",
       " 'cashew',\n",
       " 'almonds',\n",
       " 'walnuts',\n",
       " 'cashew']"
      ]
     },
     "execution_count": 15,
     "metadata": {},
     "output_type": "execute_result"
    }
   ],
   "source": [
    "fruits.extend(dry_fruits)\n",
    "fruits"
   ]
  },
  {
   "cell_type": "code",
   "execution_count": 20,
   "metadata": {},
   "outputs": [
    {
     "name": "stdout",
     "output_type": "stream",
     "text": [
      "nothing here\n"
     ]
    }
   ],
   "source": [
    "if 'fig' in fruits:\n",
    "    fruits.remove('fig')\n",
    "    print(fruits)\n",
    "else:\n",
    "    print(\"nothing here\")\n",
    "\n"
   ]
  },
  {
   "cell_type": "markdown",
   "metadata": {},
   "source": [
    "pop can be used in 2 ways \n",
    "list.pop() = remove the last item and gives us that item\n",
    "list.pop(idx) = remove the value from idx if idx is valid annd gives the value\n"
   ]
  },
  {
   "cell_type": "code",
   "execution_count": 22,
   "metadata": {},
   "outputs": [
    {
     "name": "stdout",
     "output_type": "stream",
     "text": [
      "removed_value = cashew\n",
      "list= ['apple', 'banana', 'cherry', 'guava', 'almonds', 'walnuts', 'cashew', 'almonds', 'walnuts']\n"
     ]
    }
   ],
   "source": [
    "v= fruits.pop()\n",
    "print('removed_value =',v)\n",
    "print('list=',fruits)"
   ]
  },
  {
   "cell_type": "code",
   "execution_count": 23,
   "metadata": {},
   "outputs": [
    {
     "name": "stdout",
     "output_type": "stream",
     "text": [
      "removed_value = guava\n",
      "list = ['apple', 'banana', 'cherry', 'almonds', 'walnuts', 'cashew', 'almonds', 'walnuts']\n"
     ]
    }
   ],
   "source": [
    "v = fruits.pop(3)\n",
    "print('removed_value =',v)\n",
    "print('list =',fruits)"
   ]
  },
  {
   "cell_type": "code",
   "execution_count": 26,
   "metadata": {},
   "outputs": [
    {
     "name": "stdout",
     "output_type": "stream",
     "text": [
      "[]\n"
     ]
    }
   ],
   "source": [
    "fruits.clear()\n",
    "print(fruits)"
   ]
  },
  {
   "cell_type": "code",
   "execution_count": 27,
   "metadata": {},
   "outputs": [],
   "source": [
    "movies =['spiderman','venom','eternals','harry potter','free guy','mortal kombat','life of pie']\n"
   ]
  },
  {
   "cell_type": "code",
   "execution_count": 29,
   "metadata": {},
   "outputs": [
    {
     "name": "stdout",
     "output_type": "stream",
     "text": [
      "normal \n",
      " ['life of pie', 'mortal kombat', 'free guy', 'harry potter', 'eternals', 'venom', 'spiderman']\n",
      "<built-in method reverse of list object at 0x000002D44F754A80>\n"
     ]
    }
   ],
   "source": [
    "print('normal \\n',movies)\n",
    "movies.reverse()\n",
    "print(movies.reverse)"
   ]
  },
  {
   "cell_type": "code",
   "execution_count": 30,
   "metadata": {},
   "outputs": [
    {
     "name": "stdout",
     "output_type": "stream",
     "text": [
      "['eternals', 'free guy', 'harry potter', 'life of pie', 'mortal kombat', 'spiderman', 'venom']\n"
     ]
    }
   ],
   "source": [
    "movies.sort()\n",
    "print(movies)"
   ]
  },
  {
   "cell_type": "code",
   "execution_count": 31,
   "metadata": {},
   "outputs": [
    {
     "name": "stdout",
     "output_type": "stream",
     "text": [
      "['venom', 'spiderman', 'mortal kombat', 'life of pie', 'harry potter', 'free guy', 'eternals']\n"
     ]
    }
   ],
   "source": [
    "movies.sort(reverse=True)\n",
    "print(movies)"
   ]
  },
  {
   "cell_type": "code",
   "execution_count": 32,
   "metadata": {},
   "outputs": [
    {
     "name": "stdout",
     "output_type": "stream",
     "text": [
      "['venom', 'spiderman', 'mortal kombat', 'life of pie', 'harry potter', 'free guy', 'eternals']\n"
     ]
    }
   ],
   "source": [
    "dup_mov = movies.copy()\n",
    "print(dup_mov)"
   ]
  },
  {
   "cell_type": "code",
   "execution_count": 33,
   "metadata": {},
   "outputs": [
    {
     "data": {
      "text/plain": [
       "6"
      ]
     },
     "execution_count": 33,
     "metadata": {},
     "output_type": "execute_result"
    }
   ],
   "source": [
    "movies.index(\"eternals\")"
   ]
  },
  {
   "cell_type": "code",
   "execution_count": 35,
   "metadata": {},
   "outputs": [
    {
     "data": {
      "text/plain": [
       "11"
      ]
     },
     "execution_count": 35,
     "metadata": {},
     "output_type": "execute_result"
    }
   ],
   "source": [
    "x=[1,2,3,4,5,6,1,2,2,3,2,1,31,1,3,54,1,1,2,3,1,2,4,4,55,2,1,1,1,1]\n",
    "x.count(1)\n"
   ]
  },
  {
   "cell_type": "markdown",
   "metadata": {},
   "source": [
    "# wap a program to enter 15 numbers in list, then print the sum, min,max,mean of that list"
   ]
  },
  {
   "cell_type": "code",
   "execution_count": 2,
   "metadata": {},
   "outputs": [
    {
     "name": "stdout",
     "output_type": "stream",
     "text": [
      "sum of values 335\n",
      "sum of values 1\n",
      "sum of values 90\n",
      "sum of values 22.333333333333332\n"
     ]
    }
   ],
   "source": [
    "nums = []\n",
    "for i in range(15):\n",
    "    val = int(input(f\"enter{i+1} number\"))\n",
    "    nums.append(val)\n",
    "print(\"sum of values\" ,sum(nums))\n",
    "print(\"sum of values\" ,min(nums))\n",
    "print(\"sum of values\" ,max(nums))\n",
    "print(\"sum of values\" ,sum(nums)/len(nums))\n"
   ]
  },
  {
   "cell_type": "code",
   "execution_count": null,
   "metadata": {},
   "outputs": [],
   "source": []
  }
 ],
 "metadata": {
  "interpreter": {
   "hash": "5b0f11d4f572645ee0def1dfb7c31dc9f915e3e432d6ab1f326a50bfbf8da5fd"
  },
  "kernelspec": {
   "display_name": "Python 3.9.5 64-bit ('base': conda)",
   "language": "python",
   "name": "python3"
  },
  "language_info": {
   "codemirror_mode": {
    "name": "ipython",
    "version": 3
   },
   "file_extension": ".py",
   "mimetype": "text/x-python",
   "name": "python",
   "nbconvert_exporter": "python",
   "pygments_lexer": "ipython3",
   "version": "3.9.5"
  },
  "orig_nbformat": 4
 },
 "nbformat": 4,
 "nbformat_minor": 2
}
