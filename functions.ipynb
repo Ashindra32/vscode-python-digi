{
 "cells": [
  {
   "cell_type": "code",
   "execution_count": 5,
   "metadata": {},
   "outputs": [],
   "source": [
    "def check():\n",
    "    print('this is a function')"
   ]
  },
  {
   "cell_type": "code",
   "execution_count": 7,
   "metadata": {},
   "outputs": [
    {
     "name": "stdout",
     "output_type": "stream",
     "text": [
      "this is a function\n",
      "this is a function\n",
      "this is a function\n"
     ]
    }
   ],
   "source": [
    "check()\n",
    "check()\n",
    "check()"
   ]
  },
  {
   "cell_type": "code",
   "execution_count": 16,
   "metadata": {},
   "outputs": [
    {
     "name": "stdout",
     "output_type": "stream",
     "text": [
      "0.375\n"
     ]
    }
   ],
   "source": [
    "def divide(a,b):\n",
    "    ans= a/b\n",
    "    print(ans)\n",
    "divide(3,8)\n"
   ]
  },
  {
   "cell_type": "code",
   "execution_count": 20,
   "metadata": {},
   "outputs": [],
   "source": [
    "def update_salary(old_salary):\n",
    "    new_salary= old_salary+old_salary*.08\n",
    "    print(f\"{old_salary}->{new_salary}\")\n",
    "\n",
    "def remove_hra(salary):\n",
    "    new_salary= salary-salary*.05\n",
    "    print(f\"{salary}->{new_salary}\")"
   ]
  },
  {
   "cell_type": "code",
   "execution_count": 21,
   "metadata": {},
   "outputs": [
    {
     "name": "stdout",
     "output_type": "stream",
     "text": [
      "10000->10800.0\n",
      "10800->10260.0\n"
     ]
    }
   ],
   "source": [
    "update_salary(10000)\n",
    "remove_hra(10800)"
   ]
  },
  {
   "cell_type": "code",
   "execution_count": 22,
   "metadata": {},
   "outputs": [],
   "source": [
    "def total(a,b,c,d,e):\n",
    "    ans=a+b+c+d+e\n",
    "    print(ans)"
   ]
  },
  {
   "cell_type": "code",
   "execution_count": 23,
   "metadata": {},
   "outputs": [
    {
     "name": "stdout",
     "output_type": "stream",
     "text": [
      "15\n"
     ]
    }
   ],
   "source": [
    "total(1,2,3,4,5)"
   ]
  },
  {
   "cell_type": "markdown",
   "metadata": {},
   "source": [
    "functions with return value and parameters"
   ]
  },
  {
   "cell_type": "code",
   "execution_count": 24,
   "metadata": {},
   "outputs": [],
   "source": [
    "def update_salary(old_salary):\n",
    "    new_salary= old_salary+old_salary*.08\n",
    "    return new_salary\n",
    "\n",
    "def remove_hra(salary):\n",
    "    new_salary= salary-salary*.05\n",
    "    return new_salary"
   ]
  },
  {
   "cell_type": "code",
   "execution_count": 26,
   "metadata": {},
   "outputs": [
    {
     "name": "stdout",
     "output_type": "stream",
     "text": [
      "10800.0\n",
      "21600.0\n"
     ]
    }
   ],
   "source": [
    "print(update_salary(10000))\n",
    "salary = update_salary(20000)\n",
    "print(salary)"
   ]
  },
  {
   "cell_type": "markdown",
   "metadata": {},
   "source": [
    "- wap to return true and false ,if a number is even or not\n",
    "- write a function to remove all vowels from a sentence given in a function\n",
    "- waf to return the second highest value from a list given as parameter "
   ]
  },
  {
   "cell_type": "code",
   "execution_count": 31,
   "metadata": {},
   "outputs": [
    {
     "data": {
      "text/plain": [
       "False"
      ]
     },
     "execution_count": 31,
     "metadata": {},
     "output_type": "execute_result"
    }
   ],
   "source": [
    "def even(n):\n",
    "    if n %2==0:\n",
    "        return True\n",
    "    else:\n",
    "        return False\n",
    "    \n",
    "even(3)\n"
   ]
  },
  {
   "cell_type": "code",
   "execution_count": 11,
   "metadata": {},
   "outputs": [],
   "source": [
    "s= 'my name is Ashindra Dwivedi'\n",
    "def sentence(s):\n",
    "    for vowel in 'aeiouAEIOU':\n",
    "        s= s.replace(vowel,\" \")\n",
    "    return s"
   ]
  },
  {
   "cell_type": "code",
   "execution_count": 12,
   "metadata": {},
   "outputs": [
    {
     "data": {
      "text/plain": [
       "'my n m   s  sh ndr  Dw v d '"
      ]
     },
     "execution_count": 12,
     "metadata": {},
     "output_type": "execute_result"
    }
   ],
   "source": [
    "sentence(s)"
   ]
  },
  {
   "cell_type": "code",
   "execution_count": 6,
   "metadata": {},
   "outputs": [
    {
     "data": {
      "text/plain": [
       "6"
      ]
     },
     "execution_count": 6,
     "metadata": {},
     "output_type": "execute_result"
    }
   ],
   "source": [
    "def max_2(num_list):\n",
    "    num_list.sort()\n",
    "    return num_list[-2]\n",
    "\n",
    "max_2([2,3,4,5,6,7])"
   ]
  },
  {
   "cell_type": "code",
   "execution_count": 14,
   "metadata": {},
   "outputs": [
    {
     "data": {
      "text/plain": [
       "'my n m   s  sh ndr  dw v d '"
      ]
     },
     "execution_count": 14,
     "metadata": {},
     "output_type": "execute_result"
    }
   ],
   "source": [
    "s= input(\"enter any sentence\")\n",
    "def sentence(s):\n",
    "    for vowel in 'aeiouAEIOU':\n",
    "        s= s.replace(vowel,\" \")\n",
    "    return s\n",
    "sentence(s)"
   ]
  },
  {
   "cell_type": "code",
   "execution_count": 16,
   "metadata": {},
   "outputs": [
    {
     "name": "stdout",
     "output_type": "stream",
     "text": [
      "-2\n"
     ]
    }
   ],
   "source": [
    "def eq_1(x,y,z):\n",
    "    return x**y-z*x\n",
    "eq_1(2,3,5)\n",
    "print(eq_1(x=2,y=3,z=5))"
   ]
  },
  {
   "cell_type": "code",
   "execution_count": 17,
   "metadata": {},
   "outputs": [
    {
     "name": "stdout",
     "output_type": "stream",
     "text": [
      "helo\n",
      "is\n",
      "not\n",
      "hello\n"
     ]
    }
   ],
   "source": [
    "print('helo','is','not','hello', sep='\\n')"
   ]
  },
  {
   "cell_type": "code",
   "execution_count": 18,
   "metadata": {},
   "outputs": [
    {
     "data": {
      "text/plain": [
       "['we are g', 'ing t', ' st', 'p writing']"
      ]
     },
     "execution_count": 18,
     "metadata": {},
     "output_type": "execute_result"
    }
   ],
   "source": [
    "\"we are going to stop writing\".split('o')"
   ]
  },
  {
   "cell_type": "code",
   "execution_count": 21,
   "metadata": {},
   "outputs": [
    {
     "name": "stdout",
     "output_type": "stream",
     "text": [
      "10\n"
     ]
    }
   ],
   "source": [
    "def add4(x,y,z=0,z2=0):\n",
    "    return x+y+z+z2\n",
    "print(add4(1,2,3,4))"
   ]
  },
  {
   "cell_type": "code",
   "execution_count": 26,
   "metadata": {},
   "outputs": [
    {
     "name": "stdout",
     "output_type": "stream",
     "text": [
      "1\n",
      "2\n"
     ]
    }
   ],
   "source": [
    "def count_zeros(*nums):\n",
    "    if len(nums)>0:\n",
    "        return nums.count(0)\n",
    "print(count_zeros(0))\n",
    "print(count_zeros(0,1,2,3,0,5,5,5,5,6,6,))"
   ]
  },
  {
   "cell_type": "code",
   "execution_count": 27,
   "metadata": {},
   "outputs": [
    {
     "data": {
      "text/plain": [
       "43"
      ]
     },
     "execution_count": 27,
     "metadata": {},
     "output_type": "execute_result"
    }
   ],
   "source": [
    "def adder(*args):\n",
    "    if len(args)>0:\n",
    "        return sum(args)\n",
    "    return 0\n",
    "adder(1,2,6,6,7,8,9,4)"
   ]
  },
  {
   "cell_type": "code",
   "execution_count": null,
   "metadata": {},
   "outputs": [],
   "source": []
  }
 ],
 "metadata": {
  "interpreter": {
   "hash": "5b0f11d4f572645ee0def1dfb7c31dc9f915e3e432d6ab1f326a50bfbf8da5fd"
  },
  "kernelspec": {
   "display_name": "Python 3.9.5 ('base')",
   "language": "python",
   "name": "python3"
  },
  "language_info": {
   "codemirror_mode": {
    "name": "ipython",
    "version": 3
   },
   "file_extension": ".py",
   "mimetype": "text/x-python",
   "name": "python",
   "nbconvert_exporter": "python",
   "pygments_lexer": "ipython3",
   "version": "3.9.5"
  },
  "orig_nbformat": 4
 },
 "nbformat": 4,
 "nbformat_minor": 2
}
